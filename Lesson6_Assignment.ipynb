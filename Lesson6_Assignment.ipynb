{
 "cells": [
  {
   "cell_type": "markdown",
   "metadata": {},
   "source": [
    "各位同学，大家好!  欢迎各位开始学习我们的人工智能课程。  \n",
    "这门课程假设大家不具备机器学习和人工智能的知识，但是希望大家具备初级的Python编程能力。  \n",
    "这门课程结束后，希望大家掌握Python语言以及人工智能基础知识，对CV，NLP，RS领域有一定深入的理解与编程能力。"
   ]
  },
  {
   "cell_type": "markdown",
   "metadata": {},
   "source": [
    "# 本次作业要求"
   ]
  },
  {
   "cell_type": "markdown",
   "metadata": {},
   "source": [
    "## 作业形式"
   ]
  },
  {
   "cell_type": "markdown",
   "metadata": {},
   "source": [
    "复现课程代码  \n",
    "完成课后作业"
   ]
  },
  {
   "cell_type": "markdown",
   "metadata": {},
   "source": [
    "## 作业提交方式"
   ]
  },
  {
   "cell_type": "markdown",
   "metadata": {},
   "source": [
    "完成填写此`jupyter`文件，提交至自己的github，或通过KKB作业平台提交附件"
   ]
  },
  {
   "cell_type": "markdown",
   "metadata": {},
   "source": [
    "## 作业截止时间"
   ]
  },
  {
   "cell_type": "markdown",
   "metadata": {},
   "source": [
    "每次课程作业都会在下次课程(2019年11月15日)进行讲解，最好在一周内尽快提交。  \n",
    "此次作业批改截止时间：2019年11月22日"
   ]
  },
  {
   "cell_type": "markdown",
   "metadata": {},
   "source": [
    "# 完成以下问答和编程练习"
   ]
  },
  {
   "cell_type": "markdown",
   "metadata": {},
   "source": [
    "**理论部分**  \n",
    "无"
   ]
  },
  {
   "cell_type": "markdown",
   "metadata": {},
   "source": [
    "**编程实践部分**"
   ]
  },
  {
   "cell_type": "markdown",
   "metadata": {},
   "source": [
    "1. 数据集保存及读取  \n",
    "添加编号列，并将数据集写入到`machine_learning.csv`文件，使用pandas读取验证文件是否有效(无错即可)。  \n",
    "添加一条记录，`青绿 硬挺 浊响 稍糊 平坦 硬滑 0.666 0.111 好`  \n",
    "再使用普通文件读取将数据集读取出来，列名读取到`columns`，数据(带编号)读取到`datalist`  \n",
    "在所有数据中过滤出色泽='浅白'的数据  \n",
    "在所有数据中过滤出密度大于0.5的数据"
   ]
  },
  {
   "cell_type": "code",
   "execution_count": 2,
   "metadata": {},
   "outputs": [
    {
     "name": "stdout",
     "output_type": "stream",
     "text": [
      "   编号  色泽  根蒂  敲声  纹理  脐部  触感     密度    含糖率 好瓜\n",
      "0   1  青绿  蜷缩  浊响  清晰  凹陷  硬滑  0.697  0.460  是\n",
      "1   2  乌黑  蜷缩  沉闷  清晰  凹陷  硬滑  0.774  0.376  是\n",
      "2   3  乌黑  蜷缩  浊响  清晰  凹陷  硬滑  0.634  0.264  是\n",
      "3   4  青绿  蜷缩  沉闷  清晰  凹陷  硬滑  0.608  0.318  是\n",
      "4   5  浅白  蜷缩  浊响  清晰  凹陷  硬滑  0.556  0.215  是\n",
      "True\n",
      "True\n",
      "[['5', '浅白', '蜷缩', '浊响', '清晰', '凹陷', '硬滑', '0.556', '0.215', '是'], ['11', '浅白', '硬挺', '清脆', '模糊', '平坦', '硬滑', '0.245', '0.057', '否'], ['12', '浅白', '蜷缩', '浊响', '模糊', '平坦', '软粘', '0.343', '0.099', '否'], ['14', '浅白', '稍蜷', '沉闷', '稍糊', '凹陷', '硬滑', '0.657', '0.198', '否'], ['16', '浅白', '蜷缩', '浊响', '模糊', '平坦', '硬滑', '0.593', '0.042', '否']]\n",
      "[['1', '青绿', '蜷缩', '浊响', '清晰', '凹陷', '硬滑', '0.697', '0.460', '是'], ['2', '乌黑', '蜷缩', '沉闷', '清晰', '凹陷', '硬滑', '0.774', '0.376', '是'], ['3', '乌黑', '蜷缩', '浊响', '清晰', '凹陷', '硬滑', '0.634', '0.264', '是'], ['4', '青绿', '蜷缩', '沉闷', '清晰', '凹陷', '硬滑', '0.608', '0.318', '是'], ['5', '浅白', '蜷缩', '浊响', '清晰', '凹陷', '硬滑', '0.556', '0.215', '是'], ['9', '乌黑', '稍蜷', '沉闷', '稍糊', '稍凹', '硬滑', '0.666', '0.091', '否'], ['13', '青绿', '稍蜷', '浊响', '稍糊', '凹陷', '硬滑', '0.639', '0.161', '否'], ['14', '浅白', '稍蜷', '沉闷', '稍糊', '凹陷', '硬滑', '0.657', '0.198', '否'], ['16', '浅白', '蜷缩', '浊响', '模糊', '平坦', '硬滑', '0.593', '0.042', '否'], ['17', '青绿', '蜷缩', '沉闷', '稍糊', '稍凹', '硬滑', '0.719', '0.103', '否']]\n"
     ]
    }
   ],
   "source": [
    "import pandas as pd\n",
    "import re\n",
    "\n",
    "dataset = \\\n",
    "\"\"\"色泽 根蒂 敲声 纹理 脐部 触感 密度 含糖率 好瓜\n",
    "青绿 蜷缩 浊响 清晰 凹陷 硬滑 0.697 0.460 是\n",
    "乌黑 蜷缩 沉闷 清晰 凹陷 硬滑 0.774 0.376 是\n",
    "乌黑 蜷缩 浊响 清晰 凹陷 硬滑 0.634 0.264 是\n",
    "青绿 蜷缩 沉闷 清晰 凹陷 硬滑 0.608 0.318 是\n",
    "浅白 蜷缩 浊响 清晰 凹陷 硬滑 0.556 0.215 是\n",
    "青绿 稍蜷 浊响 清晰 稍凹 软粘 0.403 0.237 是\n",
    "乌黑 稍蜷 浊响 稍糊 稍凹 软粘 0.481 0.149 是\n",
    "乌黑 稍蜷 浊响 清晰 稍凹 硬滑 0.437 0.211 是\n",
    "乌黑 稍蜷 沉闷 稍糊 稍凹 硬滑 0.666 0.091 否\n",
    "青绿 硬挺 清脆 清晰 平坦 软粘 0.243 0.267 否\n",
    "浅白 硬挺 清脆 模糊 平坦 硬滑 0.245 0.057 否\n",
    "浅白 蜷缩 浊响 模糊 平坦 软粘 0.343 0.099 否\n",
    "青绿 稍蜷 浊响 稍糊 凹陷 硬滑 0.639 0.161 否\n",
    "浅白 稍蜷 沉闷 稍糊 凹陷 硬滑 0.657 0.198 否\n",
    "乌黑 稍蜷 浊响 清晰 稍凹 软粘 0.360 0.370 否\n",
    "浅白 蜷缩 浊响 模糊 平坦 硬滑 0.593 0.042 否\n",
    "青绿 蜷缩 沉闷 稍糊 稍凹 硬滑 0.719 0.103 否\"\"\"\n",
    "\n",
    "# write into a file\n",
    "# your code here\n",
    "file = r'D:\\machine_learning.csv'  # file path, you can change the direction\n",
    "\n",
    "lines = []\n",
    "# \\n切分元素\n",
    "lines = dataset.split('\\n')\n",
    "# 每个元素内的空格替换为,\n",
    "lines = [','.join(i.split()) for i in lines]\n",
    "\n",
    "# 加入序号列\n",
    "new_lines = []\n",
    "for i in range(lines.__len__()):\n",
    "    #如果为色泽开头就识别为表头\n",
    "    if re.match('色泽', lines[i]):\n",
    "        new_lines.append('编号,' + lines[i])\n",
    "    #否则就识别为数据\n",
    "    else:\n",
    "        new_lines.append(str(i) + ',' + lines[i])\n",
    "\n",
    "result = '\\n'.join(new_lines)\n",
    "\n",
    "with open(r'D:\\machine_learning.csv', 'w', encoding='utf-8') as f:\n",
    "    f.write(result)\n",
    "\n",
    "# vertify\n",
    "df = pd.read_csv(file)\n",
    "print(df.head())\n",
    "\n",
    "append_string = '青绿 硬挺 浊响 稍糊 平坦 硬滑 0.666 0.111 好'\n",
    "# 每个元素内的空格替换为,\n",
    "result = ','.join(append_string.split())\n",
    "with open(r'D:\\machine_learning.csv', 'a', encoding='utf-8') as f:\n",
    "    f.write('\\n'+result)\n",
    "\n",
    "# read file\n",
    "# your code here\n",
    "columns = []\n",
    "datalist = []\n",
    "with open(r'D:\\machine_learning.csv', 'r', encoding='utf-8') as f:\n",
    "    #逐行读取内容\n",
    "    for i in f.readlines():\n",
    "        #编号开头的行就放到columns里\n",
    "        if re.match('编号',i) is not None:\n",
    "            for s in i.replace('\\n','').split(','):\n",
    "                columns.append(s)\n",
    "        #否则就放到datalist里\n",
    "        else:\n",
    "            datalist.append(list(i.replace('\\n','').split(',')))\n",
    "\n",
    "# vertify\n",
    "print(columns==['编号', '色泽', '根蒂', '敲声', '纹理', '脐部', '触感', '密度', '含糖率', '好瓜'])\n",
    "print(datalist[-1]==['青绿', '硬挺', '浊响', '稍糊', '平坦', '硬滑', '0.666', '0.111', '好'])\n",
    "\n",
    "#筛选浅白，参数要带*，否则就只会把list中的第一个元素传进来\n",
    "def iswhite(*arg):\n",
    "    new_list = []\n",
    "    for i in arg:\n",
    "        #把数据打成字典以作判断\n",
    "        c = dict(zip(columns,i))\n",
    "        if c['色泽'] == '浅白':\n",
    "            new_list.append(i)\n",
    "        else:\n",
    "            pass\n",
    "    return new_list\n",
    "\n",
    "print(list(filter(iswhite,datalist)))\n",
    "\n",
    "#筛选密度大于0.5\n",
    "def density(*arg):\n",
    "    new_list = []\n",
    "    for i in arg:\n",
    "        #把数据打成字典以作判断\n",
    "        c = dict(zip(columns,i))\n",
    "        if float(c['密度']) > 0.5:\n",
    "            new_list.append(i)\n",
    "        else:\n",
    "            pass\n",
    "    return new_list\n",
    "\n",
    "print(list(filter(density,datalist)))"
   ]
  },
  {
   "cell_type": "markdown",
   "metadata": {},
   "source": []
  }
 ],
 "metadata": {
  "kernelspec": {
   "display_name": "Python 3",
   "language": "python",
   "name": "python3"
  },
  "language_info": {
   "codemirror_mode": {
    "name": "ipython",
    "version": 3
   },
   "file_extension": ".py",
   "mimetype": "text/x-python",
   "name": "python",
   "nbconvert_exporter": "python",
   "pygments_lexer": "ipython3",
   "version": "3.6.5"
  }
 },
 "nbformat": 4,
 "nbformat_minor": 4
}
